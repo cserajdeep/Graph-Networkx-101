{
  "nbformat": 4,
  "nbformat_minor": 0,
  "metadata": {
    "colab": {
      "name": "Graph_Networkx_101.ipynb",
      "provenance": [],
      "collapsed_sections": []
    },
    "kernelspec": {
      "name": "python3",
      "display_name": "Python 3"
    },
    "language_info": {
      "name": "python"
    }
  },
  "cells": [
    {
      "cell_type": "code",
      "metadata": {
        "colab": {
          "base_uri": "https://localhost:8080/"
        },
        "id": "uP2RGXtPQC6S",
        "outputId": "3c809cb5-b4ff-4d66-930b-623fb93e573d"
      },
      "source": [
        "!pip install networkx"
      ],
      "execution_count": null,
      "outputs": [
        {
          "output_type": "stream",
          "text": [
            "Requirement already satisfied: networkx in /usr/local/lib/python3.7/dist-packages (2.6.2)\n"
          ],
          "name": "stdout"
        }
      ]
    },
    {
      "cell_type": "code",
      "metadata": {
        "id": "9rnL1c7ZUN_z"
      },
      "source": [
        "import numpy as np\n",
        "import networkx as nx\n",
        "import matplotlib.pyplot as plt"
      ],
      "execution_count": null,
      "outputs": []
    },
    {
      "cell_type": "code",
      "metadata": {
        "id": "SY6_NzFESjKG"
      },
      "source": [
        "def print_matrix(stext,demomat):\n",
        "  print(stext+\": \\n\")\n",
        "\n",
        "  for row in demomat:\n",
        "    for item in row:\n",
        "      print(item,end=\" \")\n",
        "    print()\n",
        "  print(\"\")"
      ],
      "execution_count": null,
      "outputs": []
    },
    {
      "cell_type": "code",
      "metadata": {
        "colab": {
          "base_uri": "https://localhost:8080/"
        },
        "id": "IMaOgg2AQhJk",
        "outputId": "ccf7d4f7-a9ff-419c-f7b5-647710b66902"
      },
      "source": [
        "my_matrix1 = np.random.randint(2,size=(3,3))\n",
        "print_matrix(\"Matrix1\",my_matrix1)\n",
        "\n",
        "my_matrix2 = np.random.randint(2,size=(3,3))\n",
        "print_matrix(\"Matrix2\",my_matrix2)"
      ],
      "execution_count": null,
      "outputs": [
        {
          "output_type": "stream",
          "text": [
            "Matrix1: \n",
            "\n",
            "1 0 1 \n",
            "1 1 1 \n",
            "0 0 1 \n",
            "\n",
            "Matrix2: \n",
            "\n",
            "1 0 0 \n",
            "0 0 1 \n",
            "1 0 0 \n",
            "\n"
          ],
          "name": "stdout"
        }
      ]
    },
    {
      "cell_type": "code",
      "metadata": {
        "colab": {
          "base_uri": "https://localhost:8080/"
        },
        "id": "6GeBu6OqUEp2",
        "outputId": "11c33d75-5b99-4982-ba12-20e10ec9d08a"
      },
      "source": [
        "G1 = nx.from_numpy_matrix(my_matrix1,parallel_edges=False, create_using=nx.MultiGraph)\n",
        "G2 = nx.from_numpy_matrix(my_matrix2,parallel_edges=False, create_using=nx.MultiGraph)\n",
        "\n",
        "print(G1)\n",
        "print(G2)"
      ],
      "execution_count": null,
      "outputs": [
        {
          "output_type": "stream",
          "text": [
            "MultiGraph with 3 nodes and 2 edges\n",
            "MultiGraph with 3 nodes and 5 edges\n"
          ],
          "name": "stdout"
        }
      ]
    },
    {
      "cell_type": "code",
      "metadata": {
        "colab": {
          "base_uri": "https://localhost:8080/",
          "height": 319
        },
        "id": "6zEdRoXmUl5b",
        "outputId": "53f8aae2-f5b7-471e-f0c3-40adc01e14a8"
      },
      "source": [
        "pos1 = nx.nx_pydot.graphviz_layout(G1, prog=\"dot\")\n",
        "nx.draw(G1,pos1)"
      ],
      "execution_count": null,
      "outputs": [
        {
          "output_type": "display_data",
          "data": {
            "image/png": "[encoded data removed]",
            "text/plain": [
              "<Figure size 432x288 with 1 Axes>"
            ]
          },
          "metadata": {
            "tags": []
          }
        }
      ]
    },
    {
      "cell_type": "code",
      "metadata": {
        "colab": {
          "base_uri": "https://localhost:8080/",
          "height": 319
        },
        "id": "jfIH3tYoUxxE",
        "outputId": "76ca441b-c5dd-40d2-d48f-902ba6746bae"
      },
      "source": [
        "pos2 = nx.nx_pydot.graphviz_layout(G2, prog=\"dot\")\n",
        "nx.draw(G2,pos2)"
      ],
      "execution_count": null,
      "outputs": [
        {
          "output_type": "display_data",
          "data": {
            "image/png": "[encoded data removed]",
            "text/plain": [
              "<Figure size 432x288 with 1 Axes>"
            ]
          },
          "metadata": {
            "tags": []
          }
        }
      ]
    },
    {
      "cell_type": "code",
      "metadata": {
        "colab": {
          "base_uri": "https://localhost:8080/",
          "height": 475
        },
        "id": "BywOFXW-SAdM",
        "outputId": "7072b51c-4ce1-4710-81ba-e6d444d98876"
      },
      "source": [
        "## Extra Example for BFS and DFS\n",
        "a = np.random.randint(0, 2, size=(5, 5))\n",
        "print_matrix(\"Matrix3\",a)\n",
        "D = nx.Graph(a)\n",
        "print(D)\n",
        "nx.draw(D, node_color=\"red\", with_labels=True)"
      ],
      "execution_count": null,
      "outputs": [
        {
          "output_type": "stream",
          "text": [
            "Matrix3: \n",
            "\n",
            "1 1 1 0 1 \n",
            "0 0 1 0 1 \n",
            "0 1 1 0 0 \n",
            "1 1 0 0 1 \n",
            "0 1 0 0 0 \n",
            "\n",
            "Graph with 5 nodes and 10 edges\n"
          ],
          "name": "stdout"
        },
        {
          "output_type": "display_data",
          "data": {
            "image/png": "[encoded data removed]",
            "text/plain": [
              "<Figure size 432x288 with 1 Axes>"
            ]
          },
          "metadata": {
            "tags": []
          }
        }
      ]
    },
    {
      "cell_type": "code",
      "metadata": {
        "colab": {
          "base_uri": "https://localhost:8080/"
        },
        "id": "QPIOG7LvmpBF",
        "outputId": "e02bda0e-03d3-4236-d68a-d5ae60f2d39d"
      },
      "source": [
        "visited = [] # List for visited nodes.\n",
        "queue = []     #Initialize a queue\n",
        "\n",
        "def bfs(visited, graph, node): #function for BFS\n",
        "  visited.append(node)\n",
        "  queue.append(node)\n",
        "\n",
        "  while queue:          # Creating loop to visit each node\n",
        "    m = queue.pop(0) \n",
        "    print (m, end = \" \") \n",
        "\n",
        "    for neighbour in graph[m]:\n",
        "      if neighbour not in visited:\n",
        "        visited.append(neighbour)\n",
        "        queue.append(neighbour)\n",
        "\n",
        "# Driver Code\n",
        "print(\"Following is the Breadth-First Search\")\n",
        "bfs(visited, D, 0)    # function calling"
      ],
      "execution_count": null,
      "outputs": [
        {
          "output_type": "stream",
          "text": [
            "Following is the Breadth-First Search\n",
            "0 1 2 4 3 "
          ],
          "name": "stdout"
        }
      ]
    },
    {
      "cell_type": "code",
      "metadata": {
        "colab": {
          "base_uri": "https://localhost:8080/"
        },
        "id": "Urczb4jUimKN",
        "outputId": "49f99d2a-533e-4f10-b78b-ba57dacae6bb"
      },
      "source": [
        "# Function to perform BFS on the graph\n",
        "def BFS(start, adj, e, v):\n",
        "  \n",
        "  # Visited vector to so that a\n",
        "  # vertex is not visited more than\n",
        "  # once Initializing the vector to\n",
        "  # false as no vertex is visited at\n",
        "  # the beginning\n",
        "  visited = [False] * v\n",
        "  q = [start]\n",
        "\n",
        "  # Set source as visited\n",
        "  visited[start] = True\n",
        "\n",
        "  while q:\n",
        "    \n",
        "    # Print current node\n",
        "    vis = q.pop(0)\n",
        "    print(vis, end = ' ')\n",
        "\n",
        "    # For every adjacent vertex to\n",
        "    # the current vertex\n",
        "    for i in range(v):\n",
        "      if (adj[vis][i] == 1 and\n",
        "        (not visited[i])):\n",
        "          \n",
        "        # Push the adjacent node in the queue\n",
        "        q.append(i)\n",
        "        \n",
        "        # set\n",
        "        visited[i] = True\n",
        "\n",
        "# Driver code\n",
        "v, e = 5, 10\n",
        "BFS(0,a,e,v) "
      ],
      "execution_count": null,
      "outputs": [
        {
          "output_type": "stream",
          "text": [
            "0 1 2 4 "
          ],
          "name": "stdout"
        }
      ]
    },
    {
      "cell_type": "code",
      "metadata": {
        "colab": {
          "base_uri": "https://localhost:8080/"
        },
        "id": "v8OD3B_okGAT",
        "outputId": "b8f619ff-156e-4167-f154-fa91d4b0ddae"
      },
      "source": [
        "# Function to perform DFS on the graph\n",
        "def DFS(start,adj,visited,v,e):\n",
        "  \n",
        "  # Print current node\n",
        "  print(start, end = ' ')\n",
        "\n",
        "  # Set current node as visited\n",
        "  visited[start] = True\n",
        "\n",
        "  # For every node of the graph\n",
        "  for i in range(v):\n",
        "    \n",
        "    # If some node is adjacent to the\n",
        "    # current node and it has not\n",
        "    # already been visited\n",
        "    if (adj[start][i] == 1 and (not visited[i])):\n",
        "      DFS(i,adj,visited,v,e)\n",
        "\n",
        "# Driver code\n",
        "v, e = 5, 10\n",
        "# vertex is visited at the beginning\n",
        "visited = [False] * v\n",
        "\n",
        "# Perform DFS\n",
        "DFS(0,a,visited,v,e);"
      ],
      "execution_count": null,
      "outputs": [
        {
          "output_type": "stream",
          "text": [
            "0 1 2 4 "
          ],
          "name": "stdout"
        }
      ]
    },
    {
      "cell_type": "code",
      "metadata": {
        "colab": {
          "base_uri": "https://localhost:8080/",
          "height": 493
        },
        "id": "zF45TqSVVD8O",
        "outputId": "d7b46d07-b4d5-4a42-9522-c5049ebfc18a"
      },
      "source": [
        "import networkx as nx\n",
        "g1 = nx.petersen_graph()\n",
        "nx.draw(g1, node_color=\"yellow\", with_labels=True)\n",
        "\n",
        "length = nx.single_source_shortest_path_length(g1, 0)\n",
        "for node in length:\n",
        "  print(f\"{node}: {length[node]}\")"
      ],
      "execution_count": null,
      "outputs": [
        {
          "output_type": "stream",
          "text": [
            "0: 0\n",
            "1: 1\n",
            "4: 1\n",
            "5: 1\n",
            "2: 2\n",
            "3: 2\n",
            "6: 2\n",
            "7: 2\n",
            "8: 2\n",
            "9: 2\n"
          ],
          "name": "stdout"
        },
        {
          "output_type": "display_data",
          "data": {
            "image/png": "[encoded data removed]",
            "text/plain": [
              "<Figure size 432x288 with 1 Axes>"
            ]
          },
          "metadata": {
            "tags": []
          }
        }
      ]
    },
    {
      "cell_type": "code",
      "metadata": {
        "colab": {
          "base_uri": "https://localhost:8080/",
          "height": 319
        },
        "id": "UhkIeLIYXH7-",
        "outputId": "0af46d1f-c8b6-4d6e-a904-ec327393968d"
      },
      "source": [
        "G = nx.complete_graph(4)\n",
        "#pos = nx.nx_pydot.graphviz_layout(G)\n",
        "pos = nx.nx_pydot.graphviz_layout(G, prog=\"dot\")\n",
        "nx.draw(G)"
      ],
      "execution_count": null,
      "outputs": [
        {
          "output_type": "display_data",
          "data": {
            "image/png": "[encoded data removed]",
            "text/plain": [
              "<Figure size 432x288 with 1 Axes>"
            ]
          },
          "metadata": {
            "tags": []
          }
        }
      ]
    },
    {
      "cell_type": "code",
      "metadata": {
        "colab": {
          "base_uri": "https://localhost:8080/",
          "height": 265
        },
        "id": "wjizKLbIYKPO",
        "outputId": "15c49f92-38c5-4e7f-d23a-1d83a907b6d7"
      },
      "source": [
        "import networkx as nx\n",
        "import matplotlib.pyplot as plt\n",
        "\n",
        "G1 = nx.balanced_tree(2,1)\n",
        "G2 = nx.balanced_tree(2,2)\n",
        "\n",
        "\n",
        "elarge1 =[(u,v) for (u,v,d) in G1.edges(data=True)]\n",
        "elarge2 =[(u,v) for (u,v,d) in G2.edges(data=True)]\n",
        "\n",
        "\n",
        "pos1=nx.spring_layout(G1)\n",
        "pos2=nx.spring_layout(G2)\n",
        "\n",
        "\n",
        "for k,v in pos2.items():\n",
        "    # Shift the x values of every node by 10 to the right\n",
        "    v[0] = v[0] +10\n",
        "\n",
        "nx.draw_networkx_nodes(G1,pos1,node_size=30,node_color='b')\n",
        "nx.draw_networkx_edges(G1,pos1,edgelist=elarge1,width=1,style='solid')\n",
        "\n",
        "\n",
        "nx.draw_networkx_nodes(G2,pos2,node_size=50)\n",
        "nx.draw_networkx_edges(G2,pos2,edgelist=elarge2,width=1)\n",
        "\n",
        "plt.show() # display\n",
        "plt.draw()"
      ],
      "execution_count": null,
      "outputs": [
        {
          "output_type": "display_data",
          "data": {
            "image/png": "[encoded data removed]",
            "text/plain": [
              "<Figure size 432x288 with 1 Axes>"
            ]
          },
          "metadata": {
            "tags": []
          }
        },
        {
          "output_type": "display_data",
          "data": {
            "text/plain": [
              "<Figure size 432x288 with 0 Axes>"
            ]
          },
          "metadata": {
            "tags": []
          }
        }
      ]
    },
    {
      "cell_type": "code",
      "metadata": {
        "colab": {
          "base_uri": "https://localhost:8080/",
          "height": 621
        },
        "id": "gsCxsSfYYU0B",
        "outputId": "9364b70b-bbed-4406-f6f8-f156d4aec15f"
      },
      "source": [
        "import networkx as nx\n",
        "import matplotlib.pyplot as plt\n",
        "\n",
        "G=nx.cycle_graph(4)\n",
        "H=nx.path_graph(4)\n",
        "\n",
        "plt.figure(1)\n",
        "nx.draw(G)\n",
        "plt.figure(2)\n",
        "nx.draw(H)\n",
        "\n",
        "plt.show()"
      ],
      "execution_count": null,
      "outputs": [
        {
          "output_type": "display_data",
          "data": {
            "image/png": "[encoded data removed]",
            "text/plain": [
              "<Figure size 432x288 with 1 Axes>"
            ]
          },
          "metadata": {
            "tags": []
          }
        },
        {
          "output_type": "display_data",
          "data": {
            "image/png": "[encoded data removed]",
            "text/plain": [
              "<Figure size 432x288 with 1 Axes>"
            ]
          },
          "metadata": {
            "tags": []
          }
        }
      ]
    },
    {
      "cell_type": "code",
      "metadata": {
        "colab": {
          "base_uri": "https://localhost:8080/"
        },
        "id": "qB90Kfx6cM8k",
        "outputId": "ab63496b-5d96-4b62-f39e-d4a6bf39abd2"
      },
      "source": [
        "# Python3 Program to print BFS traversal\n",
        "# from a given source vertex. BFS(int s)\n",
        "# traverses vertices reachable from s.\n",
        "from collections import defaultdict\n",
        "\n",
        "# This class represents a directed graph\n",
        "# using adjacency list representation\n",
        "class Graph:\n",
        "\n",
        "\t# Constructor\n",
        "\tdef __init__(self):\n",
        "\n",
        "\t\t# default dictionary to store graph\n",
        "\t\tself.graph = defaultdict(list)\n",
        "\n",
        "\t# function to add an edge to graph\n",
        "\tdef addEdge(self,u,v):\n",
        "\t\tself.graph[u].append(v)\n",
        "\n",
        "\t# Function to print a BFS of graph\n",
        "\tdef BFS(self, s):\n",
        "\n",
        "\t\t# Mark all the vertices as not visited\n",
        "\t\tvisited = [False] * (max(self.graph) + 1)\n",
        "\n",
        "\t\t# Create a queue for BFS\n",
        "\t\tqueue = []\n",
        "\n",
        "\t\t# Mark the source node as\n",
        "\t\t# visited and enqueue it\n",
        "\t\tqueue.append(s)\n",
        "\t\tvisited[s] = True\n",
        "\n",
        "\t\twhile queue:\n",
        "\n",
        "\t\t\t# Dequeue a vertex from\n",
        "\t\t\t# queue and print it\n",
        "\t\t\ts = queue.pop(0)\n",
        "\t\t\tprint (s, end = \" \")\n",
        "\n",
        "\t\t\t# Get all adjacent vertices of the\n",
        "\t\t\t# dequeued vertex s. If a adjacent\n",
        "\t\t\t# has not been visited, then mark it\n",
        "\t\t\t# visited and enqueue it\n",
        "\t\t\tfor i in self.graph[s]:\n",
        "\t\t\t\tif visited[i] == False:\n",
        "\t\t\t\t\tqueue.append(i)\n",
        "\t\t\t\t\tvisited[i] = True\n",
        "\n",
        "# Driver code\n",
        "\n",
        "# Create a graph given in\n",
        "# the above diagram\n",
        "g = Graph()\n",
        "g.addEdge(0, 1)\n",
        "g.addEdge(0, 2)\n",
        "g.addEdge(1, 2)\n",
        "g.addEdge(2, 0)\n",
        "g.addEdge(2, 3)\n",
        "g.addEdge(3, 3)\n",
        "\n",
        "print (\"Following is Breadth First Traversal\"\n",
        "\t\t\t\t\" (starting from vertex 2)\")\n",
        "g.BFS(2)\n",
        "\n",
        "# This code is contributed by Neelam Yadav\n"
      ],
      "execution_count": null,
      "outputs": [
        {
          "output_type": "stream",
          "text": [
            "Following is Breadth First Traversal (starting from vertex 2)\n",
            "2 0 3 1 "
          ],
          "name": "stdout"
        }
      ]
    },
    {
      "cell_type": "code",
      "metadata": {
        "colab": {
          "base_uri": "https://localhost:8080/"
        },
        "id": "pa-9jaqYcltZ",
        "outputId": "21c2cf6e-28a3-4029-e028-751ab632d33e"
      },
      "source": [
        "# Python3 implementation of the approach\n",
        "class Graph:\n",
        "\t\n",
        "\tadj = []\n",
        "\n",
        "\t# Function to fill empty adjacency matrix\n",
        "\tdef __init__(self, v, e):\n",
        "\t\t\n",
        "\t\tself.v = v\n",
        "\t\tself.e = e\n",
        "\t\tGraph.adj = [[0 for i in range(v)]\n",
        "\t\t\t\t\t\tfor j in range(v)]\n",
        "\n",
        "\t# Function to add an edge to the graph\n",
        "\tdef addEdge(self, start, e):\n",
        "\t\t\n",
        "\t\t# Considering a bidirectional edge\n",
        "\t\tGraph.adj[start][e] = 1\n",
        "\t\tGraph.adj[e][start] = 1\n",
        "\n",
        "\t# Function to perform DFS on the graph\n",
        "\tdef BFS(self, start):\n",
        "\t\t\n",
        "\t\t# Visited vector to so that a\n",
        "\t\t# vertex is not visited more than\n",
        "\t\t# once Initializing the vector to\n",
        "\t\t# false as no vertex is visited at\n",
        "\t\t# the beginning\n",
        "\t\tvisited = [False] * self.v\n",
        "\t\tq = [start]\n",
        "\n",
        "\t\t# Set source as visited\n",
        "\t\tvisited[start] = True\n",
        "\n",
        "\t\twhile q:\n",
        "\t\t\tvis = q[0]\n",
        "\n",
        "\t\t\t# Print current node\n",
        "\t\t\tprint(vis, end = ' ')\n",
        "\t\t\tq.pop(0)\n",
        "\t\t\t\n",
        "\t\t\t# For every adjacent vertex to\n",
        "\t\t\t# the current vertex\n",
        "\t\t\tfor i in range(self.v):\n",
        "\t\t\t\tif (Graph.adj[vis][i] == 1 and\n",
        "\t\t\t\t\t(not visited[i])):\n",
        "\t\t\t\t\t\t\n",
        "\t\t\t\t\t# Push the adjacent node\n",
        "\t\t\t\t\t# in the queue\n",
        "\t\t\t\t\tq.append(i)\n",
        "\t\t\t\t\t\n",
        "\t\t\t\t\t# set\n",
        "\t\t\t\t\tvisited[i] = True\n",
        "\n",
        "# Driver code\n",
        "v, e = 5, 4\n",
        "\n",
        "# Create the graph\n",
        "G = Graph(v, e)\n",
        "G.addEdge(0, 1)\n",
        "G.addEdge(0, 2)\n",
        "G.addEdge(1, 3)\n",
        "\n",
        "# Perform BFS\n",
        "G.BFS(0)"
      ],
      "execution_count": null,
      "outputs": [
        {
          "output_type": "stream",
          "text": [
            "0 1 2 3 "
          ],
          "name": "stdout"
        }
      ]
    },
    {
      "cell_type": "code",
      "metadata": {
        "colab": {
          "base_uri": "https://localhost:8080/"
        },
        "id": "z71Y97DnjlZa",
        "outputId": "722ba1a6-8542-42bd-81e4-28ab25a0e51b"
      },
      "source": [
        "# Python3 program to print DFS traversal\n",
        "# from a given given graph\n",
        "from collections import defaultdict\n",
        "\n",
        "# This class represents a directed graph using\n",
        "# adjacency list representation\n",
        "\n",
        "\n",
        "class Graph:\n",
        "\n",
        "\t# Constructor\n",
        "\tdef __init__(self):\n",
        "\n",
        "\t\t# default dictionary to store graph\n",
        "\t\tself.graph = defaultdict(list)\n",
        "\n",
        "\t# function to add an edge to graph\n",
        "\tdef addEdge(self, u, v):\n",
        "\t\tself.graph[u].append(v)\n",
        "\n",
        "\t# A function used by DFS\n",
        "\tdef DFSUtil(self, v, visited):\n",
        "\n",
        "\t\t# Mark the current node as visited\n",
        "\t\t# and print it\n",
        "\t\tvisited.add(v)\n",
        "\t\tprint(v, end=' ')\n",
        "\n",
        "\t\t# Recur for all the vertices\n",
        "\t\t# adjacent to this vertex\n",
        "\t\tfor neighbour in self.graph[v]:\n",
        "\t\t\tif neighbour not in visited:\n",
        "\t\t\t\tself.DFSUtil(neighbour, visited)\n",
        "\n",
        "\t# The function to do DFS traversal. It uses\n",
        "\t# recursive DFSUtil()\n",
        "\tdef DFS(self, v):\n",
        "\n",
        "\t\t# Create a set to store visited vertices\n",
        "\t\tvisited = set()\n",
        "\n",
        "\t\t# Call the recursive helper function\n",
        "\t\t# to print DFS traversal\n",
        "\t\tself.DFSUtil(v, visited)\n",
        "\n",
        "# Driver code\n",
        "\n",
        "\n",
        "# Create a graph given\n",
        "# in the above diagram\n",
        "g = Graph()\n",
        "g.addEdge(0, 1)\n",
        "g.addEdge(0, 2)\n",
        "g.addEdge(1, 2)\n",
        "g.addEdge(2, 0)\n",
        "g.addEdge(2, 3)\n",
        "g.addEdge(3, 3)\n",
        "\n",
        "print(\"Following is DFS from (starting from vertex 2)\")\n",
        "g.DFS(2)\n",
        "\n",
        "# This code is contributed by Neelam Yadav"
      ],
      "execution_count": null,
      "outputs": [
        {
          "output_type": "stream",
          "text": [
            "Following is DFS from (starting from vertex 2)\n",
            "2 0 1 3 "
          ],
          "name": "stdout"
        }
      ]
    },
    {
      "cell_type": "code",
      "metadata": {
        "colab": {
          "base_uri": "https://localhost:8080/"
        },
        "id": "2M4cl4NqjsyH",
        "outputId": "ac9d6777-0a02-46ab-8ef1-fb2b04982ed7"
      },
      "source": [
        "'''Python program to print DFS traversal for complete (disconnected) graph'''\n",
        "from collections import defaultdict\n",
        "\n",
        "# this class represents a directed graph using adjacency list representation\n",
        "\n",
        "class Graph:\n",
        "\t# Constructor\n",
        "\tdef __init__(self):\n",
        "\t\t# default dictionary to store graph\n",
        "\t\tself.graph=defaultdict(list)\n",
        "\t\n",
        "\t# Function to add an edge to graph\n",
        "\tdef addEdge(self,u,v):\n",
        "\t\tself.graph[u].append(v)\n",
        "\t# A function used by DFS\n",
        "\tdef DFSUtil(self,v,visited):\n",
        "\t\t# Mark the current node as visited and print it\n",
        "\t\tvisited.add(v)\n",
        "\t\tprint(v)\n",
        "\t\t\n",
        "\t\t# recur for all the vertices adjacent to this vertex\n",
        "\t\tfor neighbour in self.graph[v]:\n",
        "\t\t\tif neighbour not in visited:\n",
        "\t\t\t\tself.DFSUtil(neighbour,visited)\n",
        "\t\t# The function to do DFS traversal. It uses recursive DFSUtil\n",
        "\tdef DFS(self):\n",
        "\t\t# create a set to store all visited vertices\n",
        "\t\tvisited=set()\n",
        "\t\t# call the recursive helper function to print DFS traversal starting from all\n",
        "\t\t# vertices one by one\n",
        "\t\tfor vertex in list(self.graph):\n",
        "\t\t\tif vertex not in visited:\n",
        "\t\t\t\tself.DFSUtil(vertex,visited)\n",
        "# Driver code\n",
        "# create a graph given in the above diagram\n",
        "\n",
        "g=Graph()\n",
        "g.addEdge(0,1)\n",
        "g.addEdge(0,2)\n",
        "g.addEdge(1,2)\n",
        "g.addEdge(2,0)\n",
        "g.addEdge(2,3)\n",
        "g.addEdge(3,3)\n",
        "g.DFS()\n",
        "\n",
        "# Improved by Dheeraj Kumar\n"
      ],
      "execution_count": null,
      "outputs": [
        {
          "output_type": "stream",
          "text": [
            "0\n",
            "1\n",
            "2\n",
            "3\n"
          ],
          "name": "stdout"
        }
      ]
    },
    {
      "cell_type": "code",
      "metadata": {
        "colab": {
          "base_uri": "https://localhost:8080/"
        },
        "id": "RMyjF2Taj-Cu",
        "outputId": "b0e51a90-1997-4d1d-8aac-b922ac35f5b7"
      },
      "source": [
        "# Python3 implementation of the approach\n",
        "class Graph:\n",
        "\t\n",
        "\tadj = []\n",
        "\n",
        "\t# Function to fill empty adjacency matrix\n",
        "\tdef __init__(self, v, e):\n",
        "\t\t\n",
        "\t\tself.v = v\n",
        "\t\tself.e = e\n",
        "\t\tGraph.adj = [[0 for i in range(v)]\n",
        "\t\t\t\t\t\tfor j in range(v)]\n",
        "\n",
        "\t# Function to add an edge to the graph\n",
        "\tdef addEdge(self, start, e):\n",
        "\t\t\n",
        "\t\t# Considering a bidirectional edge\n",
        "\t\tGraph.adj[start][e] = 1\n",
        "\t\tGraph.adj[e][start] = 1\n",
        "\n",
        "\t# Function to perform DFS on the graph\n",
        "\tdef DFS(self, start, visited):\n",
        "\t\t\n",
        "\t\t# Print current node\n",
        "\t\tprint(start, end = ' ')\n",
        "\n",
        "\t\t# Set current node as visited\n",
        "\t\tvisited[start] = True\n",
        "\n",
        "\t\t# For every node of the graph\n",
        "\t\tfor i in range(self.v):\n",
        "\t\t\t\n",
        "\t\t\t# If some node is adjacent to the\n",
        "\t\t\t# current node and it has not\n",
        "\t\t\t# already been visited\n",
        "\t\t\tif (Graph.adj[start][i] == 1 and\n",
        "\t\t\t\t\t(not visited[i])):\n",
        "\t\t\t\tself.DFS(i, visited)\n",
        "\n",
        "# Driver code\n",
        "v, e = 5, 4\n",
        "\n",
        "# Create the graph\n",
        "G = Graph(v, e)\n",
        "G.addEdge(0, 1)\n",
        "G.addEdge(0, 2)\n",
        "G.addEdge(0, 3)\n",
        "G.addEdge(0, 4)\n",
        "\n",
        "# Visited vector to so that a vertex\n",
        "# is not visited more than once\n",
        "# Initializing the vector to false as no\n",
        "# vertex is visited at the beginning\n",
        "visited = [False] * v\n",
        "\n",
        "# Perform DFS\n",
        "G.DFS(0, visited);\n",
        "\n",
        "# This code is contributed by ng24_7\n"
      ],
      "execution_count": null,
      "outputs": [
        {
          "output_type": "stream",
          "text": [
            "0 1 2 3 4 "
          ],
          "name": "stdout"
        }
      ]
    },
    {
      "cell_type": "code",
      "metadata": {
        "colab": {
          "base_uri": "https://localhost:8080/"
        },
        "id": "k1joFavcmdxq",
        "outputId": "77c4af36-8151-4455-8463-77f63163cdfa"
      },
      "source": [
        "graph = {\n",
        "  '5' : ['3','7'],\n",
        "  '3' : ['2', '4'],\n",
        "  '7' : ['8'],\n",
        "  '2' : [],\n",
        "  '4' : ['8'],\n",
        "  '8' : []\n",
        "}\n",
        "\n",
        "visited = [] # List for visited nodes.\n",
        "queue = []     #Initialize a queue\n",
        "\n",
        "def bfs(visited, graph, node): #function for BFS\n",
        "  visited.append(node)\n",
        "  queue.append(node)\n",
        "\n",
        "  while queue:          # Creating loop to visit each node\n",
        "    m = queue.pop(0) \n",
        "    print (m, end = \" \") \n",
        "\n",
        "    for neighbour in graph[m]:\n",
        "      if neighbour not in visited:\n",
        "        visited.append(neighbour)\n",
        "        queue.append(neighbour)\n",
        "\n",
        "# Driver Code\n",
        "print(\"Following is the Breadth-First Search\")\n",
        "bfs(visited, graph, '5')    # function calling"
      ],
      "execution_count": null,
      "outputs": [
        {
          "output_type": "stream",
          "text": [
            "Following is the Breadth-First Search\n",
            "5 3 7 2 4 8 "
          ],
          "name": "stdout"
        }
      ]
    },
    {
      "cell_type": "code",
      "metadata": {
        "colab": {
          "base_uri": "https://localhost:8080/",
          "height": 419
        },
        "id": "b0iYq9YJRogP",
        "outputId": "ace7555f-8bc2-4bef-fd6e-f314706afdd4"
      },
      "source": [
        "from PIL import Image\n",
        "from matplotlib import pyplot as plt\n",
        "#Creation of the random matrix\n",
        "a = np.random.randint(0, 2, size=(5, 5))\n",
        "print_matrix(\"Matrix3\",a)\n",
        "#plt.title(\"Rand. Image\")\n",
        "plt.imshow(a)\n",
        "plt.tight_layout()\n",
        "plt.axis('off') \n",
        "plt.savefig('your_file.png', bbox_inches='tight',pad_inches = 0, dpi = 100)\n",
        "plt.show()"
      ],
      "execution_count": null,
      "outputs": [
        {
          "output_type": "stream",
          "text": [
            "Matrix3: \n",
            "\n",
            "1 0 1 0 1 \n",
            "1 1 1 0 1 \n",
            "0 1 0 0 1 \n",
            "0 0 1 0 1 \n",
            "0 1 0 1 1 \n",
            "\n"
          ],
          "name": "stdout"
        },
        {
          "output_type": "display_data",
          "data": {
            "image/png": "[encoded data removed]",
            "text/plain": [
              "<Figure size 432x288 with 1 Axes>"
            ]
          },
          "metadata": {
            "tags": [],
            "needs_background": "light"
          }
        }
      ]
    },
    {
      "cell_type": "code",
      "metadata": {
        "colab": {
          "base_uri": "https://localhost:8080/",
          "height": 363
        },
        "id": "DK24y6fASFaX",
        "outputId": "27586fe2-d225-4dfb-cae5-64f3a01f923a"
      },
      "source": [
        "from IPython.display import Image \n",
        "pil_img = Image(filename='/content/your_file.png')\n",
        "display(pil_img)"
      ],
      "execution_count": null,
      "outputs": [
        {
          "output_type": "display_data",
          "data": {
            "image/png": "[encoded data removed]",
            "text/plain": [
              "<IPython.core.display.Image object>"
            ]
          },
          "metadata": {
            "tags": []
          }
        }
      ]
    },
    {
      "cell_type": "code",
      "metadata": {
        "colab": {
          "base_uri": "https://localhost:8080/",
          "height": 363
        },
        "id": "ZmKzrItiTvlT",
        "outputId": "a173f3f7-4616-4eb5-d8a3-0fc79742f452"
      },
      "source": [
        "import cv2 \n",
        "from google.colab.patches import cv2_imshow # for image display\n",
        "im2 = cv2.imread(\"/content/your_file.png\")\n",
        "cv2_imshow(im2)"
      ],
      "execution_count": null,
      "outputs": [
        {
          "output_type": "display_data",
          "data": {
            "image/png": "[encoded data removed]",
            "text/plain": [
              "<PIL.Image.Image image mode=RGB size=346x346 at 0x7FCEAC3C4890>"
            ]
          },
          "metadata": {
            "tags": []
          }
        }
      ]
    },
    {
      "cell_type": "code",
      "metadata": {
        "colab": {
          "base_uri": "https://localhost:8080/",
          "height": 419
        },
        "id": "oT6dfBvFcQAh",
        "outputId": "b8641828-2d7d-41a0-aa43-3f5f053ba403"
      },
      "source": [
        "from matplotlib import pyplot as plt\n",
        "#Creation of the random matrix\n",
        "matrix = np.random.randint(2,size=(5,5))\n",
        "print_matrix(\"Matrix3\",matrix)\n",
        "#plt.title(\"Rand. Image\")\n",
        "plt.imshow(matrix)\n",
        "plt.tight_layout()\n",
        "plt.axis('off') \n",
        "plt.savefig('mymatrix.png', bbox_inches='tight',pad_inches = 0, dpi = 100)\n",
        "plt.show()"
      ],
      "execution_count": null,
      "outputs": [
        {
          "output_type": "stream",
          "text": [
            "Matrix3: \n",
            "\n",
            "1 0 1 0 0 \n",
            "1 1 0 0 0 \n",
            "0 0 0 1 0 \n",
            "0 1 0 0 0 \n",
            "0 1 1 0 0 \n",
            "\n"
          ],
          "name": "stdout"
        },
        {
          "output_type": "display_data",
          "data": {
            "image/png": "[encoded data removed]",
            "text/plain": [
              "<Figure size 432x288 with 1 Axes>"
            ]
          },
          "metadata": {
            "tags": [],
            "needs_background": "light"
          }
        }
      ]
    }
  ]
}